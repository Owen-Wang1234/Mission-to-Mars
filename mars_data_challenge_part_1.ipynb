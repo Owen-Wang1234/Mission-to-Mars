{
 "cells": [
  {
   "cell_type": "code",
   "execution_count": 1,
   "id": "3bee4e83",
   "metadata": {},
   "outputs": [],
   "source": [
    "# Import Splinter and Beautiful Soup.\n",
    "from splinter import Browser\n",
    "from bs4 import BeautifulSoup as soup\n",
    "from webdriver_manager.chrome import ChromeDriverManager"
   ]
  },
  {
   "cell_type": "code",
   "execution_count": 2,
   "id": "cfcfe358",
   "metadata": {},
   "outputs": [
    {
     "name": "stderr",
     "output_type": "stream",
     "text": [
      "[WDM] - Downloading: 100%|████████████████████████████████████████████████████████| 6.46M/6.46M [00:00<00:00, 12.6MB/s]\n"
     ]
    }
   ],
   "source": [
    "# Set up Splinter.\n",
    "executable_path = {\"executable_path\" : ChromeDriverManager().install()}\n",
    "browser = Browser(\"chrome\", **executable_path, headless = False)"
   ]
  },
  {
   "cell_type": "code",
   "execution_count": 3,
   "id": "2b01522d",
   "metadata": {},
   "outputs": [
    {
     "data": {
      "text/plain": [
       "True"
      ]
     },
     "execution_count": 3,
     "metadata": {},
     "output_type": "execute_result"
    }
   ],
   "source": [
    "# Visit the Mars News site for Scraping.\n",
    "url = \"https://redplanetscience.com\"\n",
    "browser.visit(url)\n",
    "\n",
    "# Optional delay for loading the page.\n",
    "browser.is_element_present_by_css(\"div.list_text\", wait_time = 1)"
   ]
  },
  {
   "cell_type": "code",
   "execution_count": 4,
   "id": "f3cce716",
   "metadata": {},
   "outputs": [],
   "source": [
    "# Parse the HTML.\n",
    "html = browser.html\n",
    "news_soup = soup(html, \"html.parser\")"
   ]
  },
  {
   "cell_type": "code",
   "execution_count": 5,
   "id": "3f40059c",
   "metadata": {},
   "outputs": [],
   "source": [
    "# Scrape the articles on the landing page.\n",
    "articles = news_soup.find_all(\"div\", class_ = \"list_text\")"
   ]
  },
  {
   "cell_type": "code",
   "execution_count": 9,
   "id": "19c2cd73",
   "metadata": {},
   "outputs": [],
   "source": [
    "# Set up the article dictionary and initialize the list of articles.\n",
    "mars_article = {\"title\" : \"\", \"preview\" : \"\"}\n",
    "article_list = []\n",
    "\n",
    "# Put the article titles and preview texts together into a dictionary.\n",
    "for article in articles:\n",
    "    # Get the article title.\n",
    "    title = article.find(\"div\", class_ = \"content_title\").text\n",
    "    mars_article[\"title\"] = title\n",
    "    \n",
    "    # Get the article preview.\n",
    "    preview = article.find(\"div\", class_ = \"article_teaser_body\").text\n",
    "    mars_article[\"preview\"] = preview\n",
    "    \n",
    "    # Add this dictionary into the list\n",
    "    article_list.append(mars_article)"
   ]
  },
  {
   "cell_type": "code",
   "execution_count": 10,
   "id": "170db8db",
   "metadata": {},
   "outputs": [
    {
     "name": "stdout",
     "output_type": "stream",
     "text": [
      "{'title': \"NASA's MAVEN Maps Winds in the Martian Upper Atmosphere that Mirror the Terrain Below and Gives Clues to Martian Climate\", 'preview': 'Researchers have created the first map of wind circulation in the upper atmosphere of a planet besides Earth, using data from NASA’s MAVEN spacecraft that were collected during the last two years.'}\n",
      "{'title': \"NASA's MAVEN Maps Winds in the Martian Upper Atmosphere that Mirror the Terrain Below and Gives Clues to Martian Climate\", 'preview': 'Researchers have created the first map of wind circulation in the upper atmosphere of a planet besides Earth, using data from NASA’s MAVEN spacecraft that were collected during the last two years.'}\n",
      "{'title': \"NASA's MAVEN Maps Winds in the Martian Upper Atmosphere that Mirror the Terrain Below and Gives Clues to Martian Climate\", 'preview': 'Researchers have created the first map of wind circulation in the upper atmosphere of a planet besides Earth, using data from NASA’s MAVEN spacecraft that were collected during the last two years.'}\n",
      "{'title': \"NASA's MAVEN Maps Winds in the Martian Upper Atmosphere that Mirror the Terrain Below and Gives Clues to Martian Climate\", 'preview': 'Researchers have created the first map of wind circulation in the upper atmosphere of a planet besides Earth, using data from NASA’s MAVEN spacecraft that were collected during the last two years.'}\n",
      "{'title': \"NASA's MAVEN Maps Winds in the Martian Upper Atmosphere that Mirror the Terrain Below and Gives Clues to Martian Climate\", 'preview': 'Researchers have created the first map of wind circulation in the upper atmosphere of a planet besides Earth, using data from NASA’s MAVEN spacecraft that were collected during the last two years.'}\n",
      "{'title': \"NASA's MAVEN Maps Winds in the Martian Upper Atmosphere that Mirror the Terrain Below and Gives Clues to Martian Climate\", 'preview': 'Researchers have created the first map of wind circulation in the upper atmosphere of a planet besides Earth, using data from NASA’s MAVEN spacecraft that were collected during the last two years.'}\n",
      "{'title': \"NASA's MAVEN Maps Winds in the Martian Upper Atmosphere that Mirror the Terrain Below and Gives Clues to Martian Climate\", 'preview': 'Researchers have created the first map of wind circulation in the upper atmosphere of a planet besides Earth, using data from NASA’s MAVEN spacecraft that were collected during the last two years.'}\n",
      "{'title': \"NASA's MAVEN Maps Winds in the Martian Upper Atmosphere that Mirror the Terrain Below and Gives Clues to Martian Climate\", 'preview': 'Researchers have created the first map of wind circulation in the upper atmosphere of a planet besides Earth, using data from NASA’s MAVEN spacecraft that were collected during the last two years.'}\n",
      "{'title': \"NASA's MAVEN Maps Winds in the Martian Upper Atmosphere that Mirror the Terrain Below and Gives Clues to Martian Climate\", 'preview': 'Researchers have created the first map of wind circulation in the upper atmosphere of a planet besides Earth, using data from NASA’s MAVEN spacecraft that were collected during the last two years.'}\n",
      "{'title': \"NASA's MAVEN Maps Winds in the Martian Upper Atmosphere that Mirror the Terrain Below and Gives Clues to Martian Climate\", 'preview': 'Researchers have created the first map of wind circulation in the upper atmosphere of a planet besides Earth, using data from NASA’s MAVEN spacecraft that were collected during the last two years.'}\n",
      "{'title': \"NASA's MAVEN Maps Winds in the Martian Upper Atmosphere that Mirror the Terrain Below and Gives Clues to Martian Climate\", 'preview': 'Researchers have created the first map of wind circulation in the upper atmosphere of a planet besides Earth, using data from NASA’s MAVEN spacecraft that were collected during the last two years.'}\n",
      "{'title': \"NASA's MAVEN Maps Winds in the Martian Upper Atmosphere that Mirror the Terrain Below and Gives Clues to Martian Climate\", 'preview': 'Researchers have created the first map of wind circulation in the upper atmosphere of a planet besides Earth, using data from NASA’s MAVEN spacecraft that were collected during the last two years.'}\n",
      "{'title': \"NASA's MAVEN Maps Winds in the Martian Upper Atmosphere that Mirror the Terrain Below and Gives Clues to Martian Climate\", 'preview': 'Researchers have created the first map of wind circulation in the upper atmosphere of a planet besides Earth, using data from NASA’s MAVEN spacecraft that were collected during the last two years.'}\n",
      "{'title': \"NASA's MAVEN Maps Winds in the Martian Upper Atmosphere that Mirror the Terrain Below and Gives Clues to Martian Climate\", 'preview': 'Researchers have created the first map of wind circulation in the upper atmosphere of a planet besides Earth, using data from NASA’s MAVEN spacecraft that were collected during the last two years.'}\n",
      "{'title': \"NASA's MAVEN Maps Winds in the Martian Upper Atmosphere that Mirror the Terrain Below and Gives Clues to Martian Climate\", 'preview': 'Researchers have created the first map of wind circulation in the upper atmosphere of a planet besides Earth, using data from NASA’s MAVEN spacecraft that were collected during the last two years.'}\n"
     ]
    }
   ],
   "source": [
    "# Print the results.\n",
    "for x in article_list:\n",
    "    print(x)"
   ]
  },
  {
   "cell_type": "code",
   "execution_count": 11,
   "id": "2765298e",
   "metadata": {},
   "outputs": [],
   "source": [
    "# Close the Splinter session.\n",
    "browser.quit()"
   ]
  },
  {
   "cell_type": "code",
   "execution_count": null,
   "id": "31eb5970",
   "metadata": {},
   "outputs": [],
   "source": [
    "# Export the list of dictionaries into a JSON file.\n",
    "import json\n",
    "\n",
    "jsonString = json.dumps(article_list)\n",
    "jsonFile = open(\"article_list.json\", \"w\")\n",
    "jsonFile.write(jsonString)\n",
    "jsonFile.close()"
   ]
  },
  {
   "cell_type": "markdown",
   "id": "fd15cf7a",
   "metadata": {},
   "source": [
    "The list of dictionaries can be imported into a Mongo database collection using two different methods. The first method uses the Mongo CLI to import the recently created JSON file into the Mongo database collection.\n",
    "\n",
    "1. Start Mongo by running `mongod` for Windows, or `brew services start mongodb/brew/mongodb-community` for Mac. (This will need to be done regardless of the method used.)\n",
    "2. In the terminal, use `cd` to navigate to the resources folder that contains the file named `article_list.json`.\n",
    "3. Import this file to a Mongo database using this command:\n",
    "\n",
    "`mongoimport --type json -d mars_news -c article_list --drop --jsonArray article_list.json`\n",
    "\n",
    "This command tells Mongo that it needs to:\n",
    "\n",
    "    * import a json file (`--type json`)\n",
    "    * to a database called \\\"mars_news\\\" (`-d mars_news`)\n",
    "    * in a collection called \\\"article_list\\\" (`-c article_list`)\n",
    "    * treat the input source as a json array (`--array`)\n",
    "    * removing the existing \\\"article_list\\\" collection (`--drop`), if it exists, before adding the new documents from the json file.\n",
    "\n",
    "The other method inserts the list of dictionaries into the Mongo database collection using the script in the next cells below."
   ]
  },
  {
   "cell_type": "code",
   "execution_count": null,
   "id": "1e026f96",
   "metadata": {},
   "outputs": [],
   "source": [
    "# Create an instance of MongoClient, using the port number 27017.\n",
    "from pymongo import MongoClient\n",
    "\n",
    "mongo = MongoClient(port = 27017)"
   ]
  },
  {
   "cell_type": "code",
   "execution_count": null,
   "id": "b77ff4ab",
   "metadata": {},
   "outputs": [],
   "source": [
    "# Set up a database named \"mars_news.\"\n",
    "db = mongo[\"mars_news\"]\n",
    "\n",
    "# Set up a collection named \"article_list.\"\n",
    "collect = db[\"article_list\"]\n",
    "\n",
    "# Insert the list of dictionaries.\n",
    "collect.insert_many(article_list)"
   ]
  },
  {
   "cell_type": "markdown",
   "id": "094dff6a",
   "metadata": {},
   "source": [
    "Regardless of the method used, there should now be a Mongo database named `mars_news` with a collection named `article_list`."
   ]
  },
  {
   "cell_type": "code",
   "execution_count": null,
   "id": "33ba7fcd",
   "metadata": {},
   "outputs": [],
   "source": [
    "# Verify existence of the database.\n",
    "print(mongo.list_database_names())"
   ]
  },
  {
   "cell_type": "code",
   "execution_count": null,
   "id": "f7e0110c",
   "metadata": {},
   "outputs": [],
   "source": [
    "# Verify existence of the collection.\n",
    "db = mongo[\"mars_news\"]\n",
    "\n",
    "print(db.list_collection_names())"
   ]
  },
  {
   "cell_type": "code",
   "execution_count": null,
   "id": "79177d74",
   "metadata": {},
   "outputs": [],
   "source": [
    "# Verify that all documents are accounted for.\n",
    "collect = db[\"article_list\"]\n",
    "\n",
    "for result in collect.find():\n",
    "    print(result)"
   ]
  },
  {
   "cell_type": "markdown",
   "id": "6976baf8",
   "metadata": {},
   "source": [
    "OPTIONAL: When finished, clean up everything."
   ]
  },
  {
   "cell_type": "code",
   "execution_count": null,
   "id": "5484c094",
   "metadata": {},
   "outputs": [],
   "source": [
    "# Delete the collection.\n",
    "db.drop_collection(\"article_list\")\n",
    "db.list_collection_names()"
   ]
  },
  {
   "cell_type": "code",
   "execution_count": null,
   "id": "fa3d997e",
   "metadata": {},
   "outputs": [],
   "source": [
    "# Delete the database.\n",
    "mongo.drop_database(db)\n",
    "mongo.list_database_names()"
   ]
  }
 ],
 "metadata": {
  "kernelspec": {
   "display_name": "Python 3 (ipykernel)",
   "language": "python",
   "name": "python3"
  },
  "language_info": {
   "codemirror_mode": {
    "name": "ipython",
    "version": 3
   },
   "file_extension": ".py",
   "mimetype": "text/x-python",
   "name": "python",
   "nbconvert_exporter": "python",
   "pygments_lexer": "ipython3",
   "version": "3.9.13"
  }
 },
 "nbformat": 4,
 "nbformat_minor": 5
}
